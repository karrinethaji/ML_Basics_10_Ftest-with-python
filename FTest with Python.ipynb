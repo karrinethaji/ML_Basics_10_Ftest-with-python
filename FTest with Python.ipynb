{
 "cells": [
  {
   "cell_type": "markdown",
   "id": "7e2ef1fc",
   "metadata": {},
   "source": [
    "### F-Test with Python"
   ]
  },
  {
   "cell_type": "code",
   "execution_count": 1,
   "id": "62c690a8",
   "metadata": {},
   "outputs": [],
   "source": [
    "#Evidence to say that the two population variances are not equal.\n",
    "## Check can we come to  conclusion whether one worker is better than the other\n",
    "\n",
    "worker1= [18, 19, 22, 25, 27, 28, 41, 45, 51, 55]\n",
    "worker2= [14, 15, 15, 17, 18, 22, 25, 25, 27, 34]"
   ]
  },
  {
   "cell_type": "code",
   "execution_count": 2,
   "id": "72bb2c95",
   "metadata": {},
   "outputs": [],
   "source": [
    "from scipy import stats\n",
    "import numpy as np"
   ]
  },
  {
   "cell_type": "code",
   "execution_count": 3,
   "id": "e3974d3e",
   "metadata": {},
   "outputs": [],
   "source": [
    "#Calculating the F-Test statistic\n",
    "\n",
    "f_test= np.var(worker1)/np.var(worker2)"
   ]
  },
  {
   "cell_type": "code",
   "execution_count": 4,
   "id": "251f1f0a",
   "metadata": {},
   "outputs": [
    {
     "data": {
      "text/plain": [
       "4.387122002085506"
      ]
     },
     "execution_count": 4,
     "metadata": {},
     "output_type": "execute_result"
    }
   ],
   "source": [
    "f_test"
   ]
  },
  {
   "cell_type": "code",
   "execution_count": 5,
   "id": "4acd043b",
   "metadata": {},
   "outputs": [],
   "source": [
    "## Critical value \n",
    "\n",
    "df1= len(worker1)-1\n",
    "df2= len(worker2)-1\n",
    "\n",
    "significance_value =0.05"
   ]
  },
  {
   "cell_type": "code",
   "execution_count": 6,
   "id": "d92ec1e4",
   "metadata": {},
   "outputs": [
    {
     "data": {
      "text/plain": [
       "3.17889310445827"
      ]
     },
     "execution_count": 6,
     "metadata": {},
     "output_type": "execute_result"
    }
   ],
   "source": [
    "# We need to find the critical value based on the degree of freedoms nd confidence interval for that we need to import scipy library.\n",
    "\n",
    "stats.f.ppf(q=1-significance_value,dfn=df1,dfd=df2)"
   ]
  },
  {
   "cell_type": "code",
   "execution_count": 7,
   "id": "a55695a7",
   "metadata": {},
   "outputs": [],
   "source": [
    "critical_value=stats.f.ppf(q=1-significance_value,dfn=df1,dfd=df2)"
   ]
  },
  {
   "cell_type": "code",
   "execution_count": 8,
   "id": "6e1f123a",
   "metadata": {},
   "outputs": [
    {
     "data": {
      "text/plain": [
       "3.17889310445827"
      ]
     },
     "execution_count": 8,
     "metadata": {},
     "output_type": "execute_result"
    }
   ],
   "source": [
    "critical_value"
   ]
  },
  {
   "cell_type": "code",
   "execution_count": 9,
   "id": "22f41d2a",
   "metadata": {},
   "outputs": [
    {
     "name": "stdout",
     "output_type": "stream",
     "text": [
      "Reject the null hypothesis\n"
     ]
    }
   ],
   "source": [
    "if f_test>critical_value:\n",
    "    print(\"Reject the null hypothesis\")\n",
    "else:\n",
    "    print(\"we are failed to reject the null hypothesis\")"
   ]
  },
  {
   "cell_type": "code",
   "execution_count": 10,
   "id": "7fda7fab",
   "metadata": {},
   "outputs": [],
   "source": [
    "## Rejected in the sense there is difference between variances of two groups. One of the worker is efficient than other worker."
   ]
  }
 ],
 "metadata": {
  "kernelspec": {
   "display_name": "Python 3 (ipykernel)",
   "language": "python",
   "name": "python3"
  },
  "language_info": {
   "codemirror_mode": {
    "name": "ipython",
    "version": 3
   },
   "file_extension": ".py",
   "mimetype": "text/x-python",
   "name": "python",
   "nbconvert_exporter": "python",
   "pygments_lexer": "ipython3",
   "version": "3.10.13"
  }
 },
 "nbformat": 4,
 "nbformat_minor": 5
}
